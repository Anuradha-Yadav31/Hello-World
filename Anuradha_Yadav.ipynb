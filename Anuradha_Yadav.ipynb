{
  "nbformat": 4,
  "nbformat_minor": 0,
  "metadata": {
    "colab": {
      "name": "Anuradha_Yadav.ipynb",
      "provenance": [],
      "collapsed_sections": [],
      "authorship_tag": "ABX9TyOYulzaSqB12slw/vBv5Eem",
      "include_colab_link": true
    },
    "kernelspec": {
      "name": "python3",
      "display_name": "Python 3"
    }
  },
  "cells": [
    {
      "cell_type": "markdown",
      "metadata": {
        "id": "view-in-github",
        "colab_type": "text"
      },
      "source": [
        "<a href=\"https://colab.research.google.com/github/Anuradha-Yadav31/Hello-World/blob/main/Anuradha_Yadav.ipynb\" target=\"_parent\"><img src=\"https://colab.research.google.com/assets/colab-badge.svg\" alt=\"Open In Colab\"/></a>"
      ]
    },
    {
      "cell_type": "markdown",
      "metadata": {
        "id": "HNIe5p2XIO1K"
      },
      "source": [
        "# Importing Libraries:\r\n",
        "Importing some of the libraries to be used in the module.\r\n"
      ]
    },
    {
      "cell_type": "code",
      "metadata": {
        "id": "0cK7h1PK-mYJ"
      },
      "source": [
        "import pandas as pd\r\n",
        "import numpy as np\r\n"
      ],
      "execution_count": null,
      "outputs": []
    },
    {
      "cell_type": "markdown",
      "metadata": {
        "id": "fBnhczbY_OLM"
      },
      "source": [
        "# Exploring the Data:\r\n",
        "The data we will use is the iris dataset, a classical dataset in machine learning and statistics. It is included in scikit-learn in the datasets module. We can load it by the load_iris function.\r\n"
      ]
    },
    {
      "cell_type": "code",
      "metadata": {
        "id": "DwwgHvXu_PTy"
      },
      "source": [
        "from sklearn.datasets import load_iris\r\n",
        "iris_dataset = load_iris()"
      ],
      "execution_count": null,
      "outputs": []
    },
    {
      "cell_type": "markdown",
      "metadata": {
        "id": "-Tpgg5vk_QGG"
      },
      "source": [
        "The iris object that is returned by load_iris is a Bunch object, which is very similar to a dictionary. It contains keys and values."
      ]
    },
    {
      "cell_type": "code",
      "metadata": {
        "colab": {
          "base_uri": "https://localhost:8080/"
        },
        "id": "YS80MPP6MWyS",
        "outputId": "39065817-059f-4b0a-8b3d-317ea22ef470"
      },
      "source": [
        "print (\"Keys of iris_dataset: \\n{}\".format(iris_dataset.keys()))"
      ],
      "execution_count": null,
      "outputs": [
        {
          "output_type": "stream",
          "text": [
            "Keys of iris_dataset: \n",
            "dict_keys(['data', 'target', 'target_names', 'DESCR', 'feature_names', 'filename'])\n"
          ],
          "name": "stdout"
        }
      ]
    },
    {
      "cell_type": "markdown",
      "metadata": {
        "id": "XtZJYj1DNAHX"
      },
      "source": [
        "###The value of the key DESCR is a short description of the dataset.\r\n",
        "Lets look at what it contains:"
      ]
    },
    {
      "cell_type": "code",
      "metadata": {
        "colab": {
          "base_uri": "https://localhost:8080/"
        },
        "id": "4wR5UpmEN5h_",
        "outputId": "4d6674f0-fc19-424c-a34a-60c7b73efb62"
      },
      "source": [
        "print(iris_dataset['DESCR'][:193] + \"\\n...\")"
      ],
      "execution_count": null,
      "outputs": [
        {
          "output_type": "stream",
          "text": [
            ".. _iris_dataset:\n",
            "\n",
            "Iris plants dataset\n",
            "--------------------\n",
            "\n",
            "**Data Set Characteristics:**\n",
            "\n",
            "    :Number of Instances: 150 (50 in each of three classes)\n",
            "    :Number of Attributes: 4 numeric, pre\n",
            "...\n"
          ],
          "name": "stdout"
        }
      ]
    },
    {
      "cell_type": "markdown",
      "metadata": {
        "id": "_5nZHcTZPVcH"
      },
      "source": [
        "As we can see it contains some information about the dataset itself, feel free to go through it to understand more about the dataset.\r\n",
        "\r\n",
        "###Lets move on to the target_names.\r\n",
        "\r\n",
        "The value of the key target_names is an array of strings, containing the species of flowers that we want to predict i.e. 'setosa', 'versicolour' and 'virginica'."
      ]
    },
    {
      "cell_type": "code",
      "metadata": {
        "colab": {
          "base_uri": "https://localhost:8080/"
        },
        "id": "n9WiVjEhQ7xX",
        "outputId": "52a932e2-35e4-4783-8d8c-2b0ba39a6c89"
      },
      "source": [
        "print(\" Target names: {}\".format(iris_dataset['target_names']))"
      ],
      "execution_count": null,
      "outputs": [
        {
          "output_type": "stream",
          "text": [
            " Target names: ['setosa' 'versicolor' 'virginica']\n"
          ],
          "name": "stdout"
        }
      ]
    },
    {
      "cell_type": "markdown",
      "metadata": {
        "id": "D3vLicYHRgAE"
      },
      "source": [
        "###Next is the feature_names.\r\n",
        "The value of feature names is the list of strings, giving the desription of each feature it includes the 'sepal length', 'sepal width', 'petal length' and tha 'petal width' all in centimeters."
      ]
    },
    {
      "cell_type": "code",
      "metadata": {
        "colab": {
          "base_uri": "https://localhost:8080/"
        },
        "id": "2RvllWbTScSa",
        "outputId": "25db730b-95e7-4699-f6ce-886f5765129f"
      },
      "source": [
        "print(\"Feature names: \\n{}\".format(iris_dataset['feature_names']))"
      ],
      "execution_count": null,
      "outputs": [
        {
          "output_type": "stream",
          "text": [
            "Feature names: \n",
            "['sepal length (cm)', 'sepal width (cm)', 'petal length (cm)', 'petal width (cm)']\n"
          ],
          "name": "stdout"
        }
      ]
    },
    {
      "cell_type": "markdown",
      "metadata": {
        "id": "h7uFdNYpTdXt"
      },
      "source": [
        "###Now lets see data.\r\n",
        "The data that we are going to use is itself contained in the target and data fields. The data contains numeric measurements of sepal length, sepal width, petal lenght and petal width in a NumPy array."
      ]
    },
    {
      "cell_type": "code",
      "metadata": {
        "colab": {
          "base_uri": "https://localhost:8080/"
        },
        "id": "v0K14RuiUF4m",
        "outputId": "a64f9737-3b50-4828-c951-2335ba12ade6"
      },
      "source": [
        "print(\"Type of data: {}\".format(type(iris_dataset['data'])))"
      ],
      "execution_count": null,
      "outputs": [
        {
          "output_type": "stream",
          "text": [
            "Type of data: <class 'numpy.ndarray'>\n"
          ],
          "name": "stdout"
        }
      ]
    },
    {
      "cell_type": "markdown",
      "metadata": {
        "id": "oAdZfii3Ud2g"
      },
      "source": [
        "The rows in this data array corresponds to the flowers, while the column represent the four measurements that were taken for each flower: "
      ]
    },
    {
      "cell_type": "code",
      "metadata": {
        "colab": {
          "base_uri": "https://localhost:8080/"
        },
        "id": "38hV9CKBVrFX",
        "outputId": "9f5b6bb4-c1fc-4a82-e052-26e3e7bde70a"
      },
      "source": [
        "print(\"Shape of data: {}\".format(iris_dataset['data'].shape))"
      ],
      "execution_count": null,
      "outputs": [
        {
          "output_type": "stream",
          "text": [
            "Shape of data: (150, 4)\n"
          ],
          "name": "stdout"
        }
      ]
    },
    {
      "cell_type": "markdown",
      "metadata": {
        "id": "v79uAFGIV_mR"
      },
      "source": [
        "The array contains measurements for 150 different flowers with 4 attributes each. Remember that the individual items are called samples/instances/data points in machine learning and their properties are called attributes/features. So we have 150 data points and 4 features. The shape of the data array is the number of samples multiplied by the number of features.\r\n",
        "\r\n",
        "Here are the feature values for the first five samples:"
      ]
    },
    {
      "cell_type": "code",
      "metadata": {
        "colab": {
          "base_uri": "https://localhost:8080/"
        },
        "id": "AMcF0WPGXYL_",
        "outputId": "47cf1bc0-c22c-42ef-b1a7-95abdd95f525"
      },
      "source": [
        "print(\"First five rows of data:\\n {}\".format(iris_dataset['data'][:5]))"
      ],
      "execution_count": null,
      "outputs": [
        {
          "output_type": "stream",
          "text": [
            "First five rows of data:\n",
            " [[5.1 3.5 1.4 0.2]\n",
            " [4.9 3.  1.4 0.2]\n",
            " [4.7 3.2 1.3 0.2]\n",
            " [4.6 3.1 1.5 0.2]\n",
            " [5.  3.6 1.4 0.2]]\n"
          ],
          "name": "stdout"
        }
      ]
    },
    {
      "cell_type": "markdown",
      "metadata": {
        "id": "bBGu1PFxYKUx"
      },
      "source": [
        "From this data, we can see that all of the first five flowers have petal width 0f 0.2 cm and that the longest sepal, at 5.1 cm. \r\n",
        "\r\n",
        "###Lets come to the last key i.e. the Target array.\r\n",
        "Contains the species of each of the flowers that were measured, also as a NumPy array:"
      ]
    },
    {
      "cell_type": "code",
      "metadata": {
        "colab": {
          "base_uri": "https://localhost:8080/"
        },
        "id": "tk_ET6GMc5CX",
        "outputId": "2800662a-a533-40d1-e968-feef2ace6745"
      },
      "source": [
        "print (\"Type of Target: {}\".format(type(iris_dataset['target'])))"
      ],
      "execution_count": null,
      "outputs": [
        {
          "output_type": "stream",
          "text": [
            "Type of Target: <class 'numpy.ndarray'>\n"
          ],
          "name": "stdout"
        }
      ]
    },
    {
      "cell_type": "markdown",
      "metadata": {
        "id": "RTm7WkG0dpXh"
      },
      "source": [
        "Target is a one-dimensional array, and on seeing the shape we can see that it contains one entry per flower:"
      ]
    },
    {
      "cell_type": "code",
      "metadata": {
        "colab": {
          "base_uri": "https://localhost:8080/"
        },
        "id": "5mAPt3Vkea7t",
        "outputId": "c0908895-a9dd-4914-8b55-0721cc2aab05"
      },
      "source": [
        "print(\"Shape of target: {}\".format(iris_dataset['target'].shape ))"
      ],
      "execution_count": null,
      "outputs": [
        {
          "output_type": "stream",
          "text": [
            "Shape of target: (150,)\n"
          ],
          "name": "stdout"
        }
      ]
    },
    {
      "cell_type": "markdown",
      "metadata": {
        "id": "Xz5wmIC3e2Ix"
      },
      "source": [
        "On seeing the target key and exploring the values we can easily see that the species are encoded as integers from 0 to 2:"
      ]
    },
    {
      "cell_type": "code",
      "metadata": {
        "colab": {
          "base_uri": "https://localhost:8080/"
        },
        "id": "6oOBIAdXfO90",
        "outputId": "14b811f2-40d5-49d3-ea65-a9136f4d0959"
      },
      "source": [
        "print(\"Target: \\n {}\".format(iris_dataset['target']))"
      ],
      "execution_count": null,
      "outputs": [
        {
          "output_type": "stream",
          "text": [
            "Target: \n",
            " [0 0 0 0 0 0 0 0 0 0 0 0 0 0 0 0 0 0 0 0 0 0 0 0 0 0 0 0 0 0 0 0 0 0 0 0 0\n",
            " 0 0 0 0 0 0 0 0 0 0 0 0 0 1 1 1 1 1 1 1 1 1 1 1 1 1 1 1 1 1 1 1 1 1 1 1 1\n",
            " 1 1 1 1 1 1 1 1 1 1 1 1 1 1 1 1 1 1 1 1 1 1 1 1 1 1 2 2 2 2 2 2 2 2 2 2 2\n",
            " 2 2 2 2 2 2 2 2 2 2 2 2 2 2 2 2 2 2 2 2 2 2 2 2 2 2 2 2 2 2 2 2 2 2 2 2 2\n",
            " 2 2]\n"
          ],
          "name": "stdout"
        }
      ]
    },
    {
      "cell_type": "markdown",
      "metadata": {
        "id": "MacyIEVPfsjr"
      },
      "source": [
        "The meanings of the numbers are given by the iris['target_names'] array: 0 means setosa, 1 means versicolour and 2 means virginica."
      ]
    },
    {
      "cell_type": "markdown",
      "metadata": {
        "id": "9dyz3bn9guU6"
      },
      "source": [
        "#Measuring Success:Training and Testing Data:"
      ]
    },
    {
      "cell_type": "code",
      "metadata": {
        "id": "8zCZRG2okF6U"
      },
      "source": [
        "from sklearn.model_selection import train_test_split\r\n",
        "X_train, X_test, y_train, y_test = train_test_split(\r\n",
        "           iris_dataset['data'], iris_dataset['target'], random_state=0)"
      ],
      "execution_count": null,
      "outputs": []
    },
    {
      "cell_type": "markdown",
      "metadata": {
        "id": "MKIJd5SrlB00"
      },
      "source": [
        "The output of the train_test_split function is X_train, X_test, y_train and y_test, which are all NumPy arrays. X_train contains 75% of the rows of the dataset, and X_test contains the remaining 25%:"
      ]
    },
    {
      "cell_type": "code",
      "metadata": {
        "colab": {
          "base_uri": "https://localhost:8080/"
        },
        "id": "UgxQn2LVmy4e",
        "outputId": "2d8d6fe5-f18d-47e1-ea97-23fd7cbd7f90"
      },
      "source": [
        "print(\"X_train shape: {}\".format(X_train.shape))\r\n",
        "print(\"X_test shape: {}\".format(X_test.shape))\r\n",
        "print(\"y_train shape: {}\".format(y_train.shape))\r\n",
        "print(\"y_test shape: {}\".format(y_test.shape))"
      ],
      "execution_count": null,
      "outputs": [
        {
          "output_type": "stream",
          "text": [
            "X_train shape: (112, 4)\n",
            "X_test shape: (38, 4)\n",
            "y_train shape: (112,)\n",
            "y_test shape: (38,)\n"
          ],
          "name": "stdout"
        }
      ]
    },
    {
      "cell_type": "markdown",
      "metadata": {
        "id": "JbbByObtphpb"
      },
      "source": [
        "#K- nearest neighbor machine learning model:"
      ]
    },
    {
      "cell_type": "code",
      "metadata": {
        "id": "hKQJrfiEr46S"
      },
      "source": [
        "from sklearn.neighbors import KNeighborsClassifier\r\n",
        "knn = KNeighborsClassifier(n_neighbors=1)"
      ],
      "execution_count": null,
      "outputs": []
    },
    {
      "cell_type": "markdown",
      "metadata": {
        "id": "DdRxg6r9sbPO"
      },
      "source": [
        "The knn object encapsulates the algorithm that will be used to build the model from the training data, as well the algorithm to make predictions on new points.\r\n",
        "\r\n",
        "We have trained the model on the training data."
      ]
    },
    {
      "cell_type": "code",
      "metadata": {
        "colab": {
          "base_uri": "https://localhost:8080/"
        },
        "id": "iCK3baR_ssBW",
        "outputId": "dedc9dab-8a57-4c9b-a438-cd8eaa979505"
      },
      "source": [
        "knn.fit(X_train, y_train)"
      ],
      "execution_count": null,
      "outputs": [
        {
          "output_type": "execute_result",
          "data": {
            "text/plain": [
              "KNeighborsClassifier(algorithm='auto', leaf_size=30, metric='minkowski',\n",
              "                     metric_params=None, n_jobs=None, n_neighbors=1, p=2,\n",
              "                     weights='uniform')"
            ]
          },
          "metadata": {
            "tags": []
          },
          "execution_count": 34
        }
      ]
    },
    {
      "cell_type": "markdown",
      "metadata": {
        "id": "V3JNYg-Ss-py"
      },
      "source": [
        "#Making Predictions"
      ]
    },
    {
      "cell_type": "markdown",
      "metadata": {
        "id": "7azUD9OuvwDY"
      },
      "source": [
        "We can now make predictions using this model on new model.\r\n",
        "For Example- A flower with sepal length of 5 cm, sepal width of 2.9 cm, petal length of 1 cm and petal width of 0.2 cm."
      ]
    },
    {
      "cell_type": "code",
      "metadata": {
        "colab": {
          "base_uri": "https://localhost:8080/"
        },
        "id": "4NOSP6fAtCDa",
        "outputId": "d3240779-ffe7-49ef-e335-cd4093520492"
      },
      "source": [
        "X_new = np.array([[5,2.9,1,0.2]])\r\n",
        "print(\"X_new.shape: {}\".format(X_new.shape))"
      ],
      "execution_count": null,
      "outputs": [
        {
          "output_type": "stream",
          "text": [
            "X_new.shape: (1, 4)\n"
          ],
          "name": "stdout"
        }
      ]
    },
    {
      "cell_type": "markdown",
      "metadata": {
        "id": "sF1dlEfWyDHE"
      },
      "source": [
        "To make a prediction, we call the predict method of the knn object:"
      ]
    },
    {
      "cell_type": "code",
      "metadata": {
        "colab": {
          "base_uri": "https://localhost:8080/"
        },
        "id": "2adGmE57vkiM",
        "outputId": "3b874ef7-2099-4235-db59-5b77ce3b07ed"
      },
      "source": [
        "prediction = knn.predict(X_new)\r\n",
        "print(\"Prediction: {}\". format(prediction))\r\n",
        "print(\"Predicted target name: {}\".format(\r\n",
        "    iris_dataset['target_names'][prediction]))"
      ],
      "execution_count": null,
      "outputs": [
        {
          "output_type": "stream",
          "text": [
            "Prediction: [0]\n",
            "Predicted target name: ['setosa']\n"
          ],
          "name": "stdout"
        }
      ]
    },
    {
      "cell_type": "markdown",
      "metadata": {
        "id": "aciHU4gRyAkt"
      },
      "source": [
        "We don't know the correct species of this sample, which is the whole point of building the model!"
      ]
    },
    {
      "cell_type": "markdown",
      "metadata": {
        "id": "WU91Sh_jyreD"
      },
      "source": [
        "#Evaluating the Model:"
      ]
    },
    {
      "cell_type": "markdown",
      "metadata": {
        "id": "_klfHyLKyvPH"
      },
      "source": [
        ""
      ]
    },
    {
      "cell_type": "code",
      "metadata": {
        "colab": {
          "base_uri": "https://localhost:8080/"
        },
        "id": "D4lL9HU4yz4I",
        "outputId": "ac56f639-0b80-4c18-e46c-7c88f77ea007"
      },
      "source": [
        "y_pred =knn.predict(X_test)\r\n",
        "print(\"Test set predictions: \\n {}\".format(y_pred))\r\n"
      ],
      "execution_count": null,
      "outputs": [
        {
          "output_type": "stream",
          "text": [
            "Test set predictions: \n",
            " [2 1 0 2 0 2 0 1 1 1 2 1 1 1 1 0 1 1 0 0 2 1 0 0 2 0 0 1 1 0 2 1 0 2 2 1 0\n",
            " 2]\n"
          ],
          "name": "stdout"
        }
      ]
    },
    {
      "cell_type": "code",
      "metadata": {
        "colab": {
          "base_uri": "https://localhost:8080/"
        },
        "id": "4yGU7syG0BcQ",
        "outputId": "5ae8da8b-7921-4545-9ac9-5abcb38b4348"
      },
      "source": [
        "print(\"Test set score: {}\".format(np.mean(y_pred== y_test)))"
      ],
      "execution_count": null,
      "outputs": [
        {
          "output_type": "stream",
          "text": [
            "Test set score: 0.9736842105263158\n"
          ],
          "name": "stdout"
        }
      ]
    }
  ]
}